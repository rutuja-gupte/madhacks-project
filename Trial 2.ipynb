{
 "cells": [
  {
   "cell_type": "code",
   "execution_count": 53,
   "id": "56acb2d5",
   "metadata": {},
   "outputs": [],
   "source": [
    "import matplotlib.pyplot as plt\n",
    "import numpy as np\n",
    "import pandas as pd\n",
    "import re"
   ]
  },
  {
   "cell_type": "code",
   "execution_count": 58,
   "id": "0890fe28",
   "metadata": {},
   "outputs": [
    {
     "name": "stdout",
     "output_type": "stream",
     "text": [
      "~ 223 590 619 595 0\n",
      "~ 216 279 221 588 0\n",
      "Y 300 453 311 469 0\n",
      "o 311 453 323 465 0\n",
      "u 326 453 336 465 0\n",
      "r 340 453 347 465 0\n",
      "H 356 453 368 469 0\n",
      "o 371 453 383 465 0\n",
      "m 386 453 403 465 0\n",
      "e 407 453 417 465 0\n",
      "~ 580 441 1003 446 0\n",
      "~ 436 28 441 335 0\n",
      "M 592 254 611 270 0\n",
      "y 614 249 624 266 0\n",
      "H 633 254 645 270 0\n",
      "o 649 254 660 266 0\n",
      "m 664 254 681 266 0\n",
      "e 684 254 695 266 0\n",
      "~ 443 22 1003 31 0\n",
      "~ 1005 29 1010 439 0\n",
      "\n",
      "level\tpage_num\tblock_num\tpar_num\tline_num\tword_num\tleft\ttop\twidth\theight\tconf\ttext\n",
      "1\t1\t0\t0\t0\t0\t0\t0\t1182\t720\t-1\t\n",
      "2\t1\t1\t0\t0\t0\t223\t125\t396\t5\t-1\t\n",
      "3\t1\t1\t1\t0\t0\t223\t125\t396\t5\t-1\t\n",
      "4\t1\t1\t1\t1\t0\t223\t125\t396\t5\t-1\t\n",
      "5\t1\t1\t1\t1\t1\t223\t125\t396\t5\t95.000000\t \n",
      "2\t1\t2\t0\t0\t0\t216\t132\t5\t309\t-1\t\n",
      "3\t1\t2\t1\t0\t0\t216\t132\t5\t309\t-1\t\n",
      "4\t1\t2\t1\t1\t0\t216\t132\t5\t309\t-1\t\n",
      "5\t1\t2\t1\t1\t1\t216\t132\t5\t309\t95.000000\t \n",
      "2\t1\t3\t0\t0\t0\t300\t251\t117\t16\t-1\t\n",
      "3\t1\t3\t1\t0\t0\t300\t251\t117\t16\t-1\t\n",
      "4\t1\t3\t1\t1\t0\t300\t251\t117\t16\t-1\t\n",
      "5\t1\t3\t1\t1\t1\t300\t251\t47\t16\t96.748810\tYour\n",
      "5\t1\t3\t1\t1\t2\t356\t251\t61\t16\t96.343773\tHome\n",
      "2\t1\t4\t0\t0\t0\t580\t274\t423\t5\t-1\t\n",
      "3\t1\t4\t1\t0\t0\t580\t274\t423\t5\t-1\t\n",
      "4\t1\t4\t1\t1\t0\t580\t274\t423\t5\t-1\t\n",
      "5\t1\t4\t1\t1\t1\t580\t274\t423\t5\t95.000000\t \n",
      "2\t1\t5\t0\t0\t0\t436\t385\t5\t307\t-1\t\n",
      "3\t1\t5\t1\t0\t0\t436\t385\t5\t307\t-1\t\n",
      "4\t1\t5\t1\t1\t0\t436\t385\t5\t307\t-1\t\n",
      "5\t1\t5\t1\t1\t1\t436\t385\t5\t307\t95.000000\t \n",
      "2\t1\t6\t0\t0\t0\t592\t450\t103\t21\t-1\t\n",
      "3\t1\t6\t1\t0\t0\t592\t450\t103\t21\t-1\t\n",
      "4\t1\t6\t1\t1\t0\t592\t450\t103\t21\t-1\t\n",
      "5\t1\t6\t1\t1\t1\t592\t450\t32\t21\t96.628372\tMy\n",
      "5\t1\t6\t1\t1\t2\t633\t450\t62\t16\t96.628372\tHome\n",
      "2\t1\t7\t0\t0\t0\t443\t689\t560\t9\t-1\t\n",
      "3\t1\t7\t1\t0\t0\t443\t689\t560\t9\t-1\t\n",
      "4\t1\t7\t1\t1\t0\t443\t689\t560\t9\t-1\t\n",
      "5\t1\t7\t1\t1\t1\t443\t689\t560\t9\t95.000000\t \n",
      "2\t1\t8\t0\t0\t0\t1005\t281\t5\t410\t-1\t\n",
      "3\t1\t8\t1\t0\t0\t1005\t281\t5\t410\t-1\t\n",
      "4\t1\t8\t1\t1\t0\t1005\t281\t5\t410\t-1\t\n",
      "5\t1\t8\t1\t1\t1\t1005\t281\t5\t410\t95.000000\t \n",
      "\n",
      "Your Home\n",
      "\n",
      "My Home\n",
      "\n",
      "\n"
     ]
    }
   ],
   "source": [
    "from PIL import Image \n",
    "from pytesseract import pytesseract \n",
    "import os\n",
    "  \n",
    "# Defining paths to tesseract.exe  \n",
    "# and the image we would be using \n",
    "# path_to_tesseract = os.path.join(\"C:\\\\\", \"Users\",\"rmgup\",\"anaconda3\",\"Scripts\",\"pytesseract.exe\")\n",
    "image_path = os.path.join(\"C:\\\\\", \"My Data\", \"Personal\", \"Projects\", \"test.jpg\")\n",
    "path_to_tesseract = r\"C:\\Program Files\\Tesseract-OCR\\tesseract.exe\"\n",
    "  \n",
    "# Opening the image & storing it in an image object \n",
    "img = Image.open(image_path, 'r') \n",
    "  \n",
    "# Providing the tesseract executable \n",
    "# location to pytesseract library \n",
    "pytesseract.tesseract_cmd = path_to_tesseract \n",
    "  \n",
    "# Passing the image object to image_to_string() function \n",
    "# This function will extract the text from the image \n",
    "# text = pytesseract.image_to_boxes(image_path) \n",
    "text2 = pytesseract.image_to_data(image_path)\n",
    "text3 = pytesseract.image_to_string(image_path)\n",
    "  \n",
    "# Displaying the extracted text \n",
    "print(text)\n",
    "print(text2)\n",
    "print(text3)\n",
    "\n",
    "img.close()"
   ]
  },
  {
   "cell_type": "code",
   "execution_count": 83,
   "id": "3f0c79d6",
   "metadata": {},
   "outputs": [],
   "source": [
    "weird_string = re.findall(\"([\\s\\S]*)\\n$\", text2)"
   ]
  },
  {
   "cell_type": "code",
   "execution_count": 80,
   "id": "d21d5b4c",
   "metadata": {},
   "outputs": [
    {
     "data": {
      "text/plain": [
       "['a\\n', 'pp\\n', 'le\\n']"
      ]
     },
     "execution_count": 80,
     "metadata": {},
     "output_type": "execute_result"
    }
   ],
   "source": [
    "re.findall(\".*\\\\n\", \"a\\npp\\nle\\n\")"
   ]
  },
  {
   "cell_type": "code",
   "execution_count": 61,
   "id": "c8f0f3fe",
   "metadata": {},
   "outputs": [
    {
     "data": {
      "text/plain": [
       "'level\\tpage_num\\tblock_num\\tpar_num\\tline_num\\tword_num\\tleft\\ttop\\twidth\\theight\\tconf\\ttext\\n1\\t1\\t0\\t0\\t0\\t0\\t0\\t0\\t1182\\t720\\t-1\\t\\n2\\t1\\t1\\t0\\t0\\t0\\t223\\t125\\t396\\t5\\t-1\\t\\n3\\t1\\t1\\t1\\t0\\t0\\t223\\t125\\t396\\t5\\t-1\\t\\n4\\t1\\t1\\t1\\t1\\t0\\t223\\t125\\t396\\t5\\t-1\\t\\n5\\t1\\t1\\t1\\t1\\t1\\t223\\t125\\t396\\t5\\t95.000000\\t \\n2\\t1\\t2\\t0\\t0\\t0\\t216\\t132\\t5\\t309\\t-1\\t\\n3\\t1\\t2\\t1\\t0\\t0\\t216\\t132\\t5\\t309\\t-1\\t\\n4\\t1\\t2\\t1\\t1\\t0\\t216\\t132\\t5\\t309\\t-1\\t\\n5\\t1\\t2\\t1\\t1\\t1\\t216\\t132\\t5\\t309\\t95.000000\\t \\n2\\t1\\t3\\t0\\t0\\t0\\t300\\t251\\t117\\t16\\t-1\\t\\n3\\t1\\t3\\t1\\t0\\t0\\t300\\t251\\t117\\t16\\t-1\\t\\n4\\t1\\t3\\t1\\t1\\t0\\t300\\t251\\t117\\t16\\t-1\\t\\n5\\t1\\t3\\t1\\t1\\t1\\t300\\t251\\t47\\t16\\t96.748810\\tYour\\n5\\t1\\t3\\t1\\t1\\t2\\t356\\t251\\t61\\t16\\t96.343773\\tHome\\n2\\t1\\t4\\t0\\t0\\t0\\t580\\t274\\t423\\t5\\t-1\\t\\n3\\t1\\t4\\t1\\t0\\t0\\t580\\t274\\t423\\t5\\t-1\\t\\n4\\t1\\t4\\t1\\t1\\t0\\t580\\t274\\t423\\t5\\t-1\\t\\n5\\t1\\t4\\t1\\t1\\t1\\t580\\t274\\t423\\t5\\t95.000000\\t \\n2\\t1\\t5\\t0\\t0\\t0\\t436\\t385\\t5\\t307\\t-1\\t\\n3\\t1\\t5\\t1\\t0\\t0\\t436\\t385\\t5\\t307\\t-1\\t\\n4\\t1\\t5\\t1\\t1\\t0\\t436\\t385\\t5\\t307\\t-1\\t\\n5\\t1\\t5\\t1\\t1\\t1\\t436\\t385\\t5\\t307\\t95.000000\\t \\n2\\t1\\t6\\t0\\t0\\t0\\t592\\t450\\t103\\t21\\t-1\\t\\n3\\t1\\t6\\t1\\t0\\t0\\t592\\t450\\t103\\t21\\t-1\\t\\n4\\t1\\t6\\t1\\t1\\t0\\t592\\t450\\t103\\t21\\t-1\\t\\n5\\t1\\t6\\t1\\t1\\t1\\t592\\t450\\t32\\t21\\t96.628372\\tMy\\n5\\t1\\t6\\t1\\t1\\t2\\t633\\t450\\t62\\t16\\t96.628372\\tHome\\n2\\t1\\t7\\t0\\t0\\t0\\t443\\t689\\t560\\t9\\t-1\\t\\n3\\t1\\t7\\t1\\t0\\t0\\t443\\t689\\t560\\t9\\t-1\\t\\n4\\t1\\t7\\t1\\t1\\t0\\t443\\t689\\t560\\t9\\t-1\\t\\n5\\t1\\t7\\t1\\t1\\t1\\t443\\t689\\t560\\t9\\t95.000000\\t \\n2\\t1\\t8\\t0\\t0\\t0\\t1005\\t281\\t5\\t410\\t-1\\t\\n3\\t1\\t8\\t1\\t0\\t0\\t1005\\t281\\t5\\t410\\t-1\\t\\n4\\t1\\t8\\t1\\t1\\t0\\t1005\\t281\\t5\\t410\\t-1\\t\\n5\\t1\\t8\\t1\\t1\\t1\\t1005\\t281\\t5\\t410\\t95.000000\\t \\n'"
      ]
     },
     "execution_count": 61,
     "metadata": {},
     "output_type": "execute_result"
    }
   ],
   "source": [
    "(text2)"
   ]
  },
  {
   "cell_type": "code",
   "execution_count": 106,
   "id": "64a41c9d",
   "metadata": {},
   "outputs": [
    {
     "name": "stdout",
     "output_type": "stream",
     "text": [
      "level                5\n",
      "page_num             1\n",
      "block_num            3\n",
      "par_num              1\n",
      "line_num             1\n",
      "word_num             1\n",
      "left               300\n",
      "top                251\n",
      "width               47\n",
      "height              16\n",
      "conf         96.748810\n",
      "text              Your\n",
      "Name: 12, dtype: object\n",
      "level                5\n",
      "page_num             1\n",
      "block_num            3\n",
      "par_num              1\n",
      "line_num             1\n",
      "word_num             2\n",
      "left               356\n",
      "top                251\n",
      "width               61\n",
      "height              16\n",
      "conf         96.343773\n",
      "text              Home\n",
      "Name: 13, dtype: object\n",
      "level                5\n",
      "page_num             1\n",
      "block_num            6\n",
      "par_num              1\n",
      "line_num             1\n",
      "word_num             1\n",
      "left               592\n",
      "top                450\n",
      "width               32\n",
      "height              21\n",
      "conf         96.628372\n",
      "text                My\n",
      "Name: 25, dtype: object\n",
      "level                5\n",
      "page_num             1\n",
      "block_num            6\n",
      "par_num              1\n",
      "line_num             1\n",
      "word_num             2\n",
      "left               633\n",
      "top                450\n",
      "width               62\n",
      "height              16\n",
      "conf         96.628372\n",
      "text              Home\n",
      "Name: 26, dtype: object\n"
     ]
    }
   ],
   "source": [
    "filtered_df = df[(df['text'] != '') & (df['conf'].astype(float) > 95)]\n",
    "\n",
    "new_df = \n",
    "for idx, row in filtered_df.iterrows():\n",
    "    if row['word_num'] == 1:\n",
    "        word = row['text']"
   ]
  },
  {
   "cell_type": "code",
   "execution_count": 25,
   "id": "bb5f2a01",
   "metadata": {},
   "outputs": [
    {
     "data": {
      "text/plain": [
       "<matplotlib.image.AxesImage at 0x216f0c8ab80>"
      ]
     },
     "execution_count": 25,
     "metadata": {},
     "output_type": "execute_result"
    },
    {
     "data": {
      "image/png": "[encoded data removed]",
      "text/plain": [
       "<Figure size 640x480 with 1 Axes>"
      ]
     },
     "metadata": {},
     "output_type": "display_data"
    }
   ],
   "source": [
    "img = plt.imread(\"test.jpg\")\n",
    "plt.imshow(img)"
   ]
  },
  {
   "cell_type": "code",
   "execution_count": 33,
   "id": "abef6f33",
   "metadata": {},
   "outputs": [
    {
     "data": {
      "text/plain": [
       "<matplotlib.image.AxesImage at 0x216f2ed3910>"
      ]
     },
     "execution_count": 33,
     "metadata": {},
     "output_type": "execute_result"
    },
    {
     "data": {
      "image/png": "[encoded data removed]",
      "text/plain": [
       "<Figure size 640x480 with 1 Axes>"
      ]
     },
     "metadata": {},
     "output_type": "display_data"
    }
   ],
   "source": [
    "figure = plt.figure()\n",
    "axes = figure.add_subplot(111)\n",
    "p = plt.Circle((300,251), 10, color='red')\n",
    "# p = plt.Circle((223,125), 10, color='blue')\n",
    "axes.add_patch(p)\n",
    "img2 = img.copy()\n",
    "axes.imshow(img2)"
   ]
  },
  {
   "cell_type": "code",
   "execution_count": null,
   "id": "33d88f4b",
   "metadata": {},
   "outputs": [],
   "source": []
  }
 ],
 "metadata": {
  "kernelspec": {
   "display_name": "Python 3 (ipykernel)",
   "language": "python",
   "name": "python3"
  },
  "language_info": {
   "codemirror_mode": {
    "name": "ipython",
    "version": 3
   },
   "file_extension": ".py",
   "mimetype": "text/x-python",
   "name": "python",
   "nbconvert_exporter": "python",
   "pygments_lexer": "ipython3",
   "version": "3.11.5"
  }
 },
 "nbformat": 4,
 "nbformat_minor": 5
}
