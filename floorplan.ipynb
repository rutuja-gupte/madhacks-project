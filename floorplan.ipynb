{
 "cells": [
  {
   "cell_type": "code",
   "execution_count": 1,
   "id": "e051004c",
   "metadata": {},
   "outputs": [],
   "source": [
    "import cv2 as cv\n",
    "import numpy as np\n",
    "import os\n",
    "import matplotlib.pyplot as plt\n",
    "from PIL import Image as im"
   ]
  },
  {
   "cell_type": "code",
   "execution_count": 2,
   "id": "c191f1b2",
   "metadata": {},
   "outputs": [],
   "source": [
    "floorplan = cv.imread(\"floorplans/babcock_hall/babcock_hall_1.jpg\")\n",
    "\n",
    "blank = np.zeros(floorplan.shape, dtype='uint8')"
   ]
  },
  {
   "cell_type": "code",
   "execution_count": 3,
   "id": "166efd9b",
   "metadata": {},
   "outputs": [],
   "source": [
    "cv.imshow(\"Floorplan\", floorplan)"
   ]
  },
  {
   "cell_type": "code",
   "execution_count": 4,
   "id": "585badb7",
   "metadata": {},
   "outputs": [],
   "source": [
    "gray_fp = cv.cvtColor(floorplan, cv.COLOR_BGR2GRAY)\n",
    "\n",
    "# blur_fp = cv.GaussianBlur(gray_fp, (101,101), cv.BORDER_DEFAULT)\n",
    "# edges_fp = cv.Canny(gray_fp, 125, 175)\n",
    "# cv.imshow(\"Edges of Floor Plan\", edges_fp)"
   ]
  },
  {
   "cell_type": "code",
   "execution_count": 5,
   "id": "53f5bbef",
   "metadata": {},
   "outputs": [],
   "source": [
    "ret, thresh = cv.threshold(gray_fp, 125, 255, cv.THRESH_BINARY)\n",
    "\n",
    "# adaptive_thresh = cv.adaptiveThreshold(gray_fp, 255, cv.ADAPTIVE_THRESH_MEAN_C, cv.THRESH_BINARY, 101, 3)\n"
   ]
  },
  {
   "cell_type": "code",
   "execution_count": 6,
   "id": "0399b125",
   "metadata": {},
   "outputs": [
    {
     "data": {
      "text/plain": [
       "1338"
      ]
     },
     "execution_count": 6,
     "metadata": {},
     "output_type": "execute_result"
    }
   ],
   "source": [
    "# contours, hierarchies = cv.findContours(edges_fp, cv.RETR_LIST, cv.CHAIN_APPROX_SIMPLE)\n",
    "# len(contours)\n",
    "contours, hierarchies = cv.findContours(thresh, cv.RETR_LIST, cv.CHAIN_APPROX_SIMPLE)\n",
    "len(contours)"
   ]
  },
  {
   "cell_type": "code",
   "execution_count": 7,
   "id": "25e8a332",
   "metadata": {},
   "outputs": [],
   "source": [
    "for i in range(len(contours)//2, len(contours), 1):\n",
    "    cv.drawContours(blank, contours, i, (255,255,255), 1)\n",
    "    \n",
    "blank = cv.bitwise_not(blank)"
   ]
  },
  {
   "cell_type": "code",
   "execution_count": 8,
   "id": "2db09133",
   "metadata": {},
   "outputs": [],
   "source": [
    "# for contour in contours[0:906]:\n",
    "#     # Calculate the centroid of the contour\n",
    "#     M = cv.moments(contour)\n",
    "#     if M[\"m00\"] != 0:\n",
    "#         cX = int(M[\"m10\"] / M[\"m00\"])\n",
    "#         cY = int(M[\"m01\"] / M[\"m00\"])\n",
    "\n",
    "#         # Draw a circle at the centroid\n",
    "#         cv.circle(blank, (cX, cY), 5, (255, 255, 255), -1)\n",
    "\n",
    "# fig = plt.figure()\n",
    "# axes = fig.add_subplot(111)\n",
    "# axes.imshow(blank)\n",
    "# with open(\"floorplans/babcock_hall/babcock_hall_1.jpg\", \"wb\") as f:\n",
    "#     fig.savefig(f)\n",
    "\n",
    "# cv.imshow(\"Plain Floor Plan\", blank)\n",
    "\n",
    "img4 = im.fromarray(blank)\n",
    "img4.save(\"floorplans/babcock_hall/babcock_hall_1.jpg\")"
   ]
  },
  {
   "cell_type": "code",
   "execution_count": null,
   "id": "b68613a6",
   "metadata": {},
   "outputs": [],
   "source": [
    "cv.waitKey(0)"
   ]
  },
  {
   "cell_type": "code",
   "execution_count": null,
   "id": "b067b4ac",
   "metadata": {},
   "outputs": [],
   "source": [
    "cv.destroyAllWindows()"
   ]
  },
  {
   "cell_type": "code",
   "execution_count": null,
   "id": "c90ab499",
   "metadata": {},
   "outputs": [],
   "source": [
    "l = os.listdir(\"floorplans\")\n",
    "dfs = []\n",
    "for dirs in l:\n",
    "    f = os.listdir(os.path.join(\"floorplans\", dirs))\n",
    "    for file in f:\n",
    "        image_path = os.path.join(\"floorplans\", dirs, file)\n",
    "        \n",
    "        print(image_path)"
   ]
  },
  {
   "cell_type": "code",
   "execution_count": 1,
   "id": "3855d39e",
   "metadata": {},
   "outputs": [],
   "source": [
    "with open(\"temp.txt\") as f:\n",
    "    data = f.read()"
   ]
  },
  {
   "cell_type": "code",
   "execution_count": 12,
   "id": "26f2424c",
   "metadata": {},
   "outputs": [],
   "source": [
    "import re"
   ]
  },
  {
   "cell_type": "code",
   "execution_count": 24,
   "id": "1c39a14c",
   "metadata": {},
   "outputs": [],
   "source": [
    "l = re.findall('\\(\\d+,\\d+\\)', data)\n",
    "l2 = [item[1:-1].split(',') for item in l]\n",
    "l3 = [(int(item[0]), int(item[1])) for item in l2]"
   ]
  },
  {
   "cell_type": "code",
   "execution_count": 25,
   "id": "251aac44",
   "metadata": {},
   "outputs": [
    {
     "data": {
      "text/plain": [
       "[(2086, 1139),\n",
       " (2085, 1138),\n",
       " (2084, 1137),\n",
       " (2083, 1136),\n",
       " (2082, 1135),\n",
       " (2081, 1134),\n",
       " (2080, 1133),\n",
       " (2079, 1132),\n",
       " (2078, 1131),\n",
       " (2077, 1130),\n",
       " (2076, 1129),\n",
       " (2075, 1128),\n",
       " (2074, 1127),\n",
       " (2073, 1126),\n",
       " (2072, 1125),\n",
       " (2071, 1124),\n",
       " (2070, 1123),\n",
       " (2069, 1122),\n",
       " (2068, 1121),\n",
       " (2067, 1120),\n",
       " (2066, 1119),\n",
       " (2065, 1118),\n",
       " (2064, 1117),\n",
       " (2063, 1116),\n",
       " (2062, 1115),\n",
       " (2061, 1114),\n",
       " (2060, 1113),\n",
       " (2059, 1112),\n",
       " (2058, 1111),\n",
       " (2057, 1110),\n",
       " (2056, 1109),\n",
       " (2055, 1108),\n",
       " (2054, 1107),\n",
       " (2053, 1106),\n",
       " (2052, 1105),\n",
       " (2051, 1104),\n",
       " (2050, 1103),\n",
       " (2049, 1102),\n",
       " (2048, 1101),\n",
       " (2047, 1100),\n",
       " (2046, 1099),\n",
       " (2045, 1098),\n",
       " (2044, 1097),\n",
       " (2043, 1096),\n",
       " (2042, 1095),\n",
       " (2041, 1094),\n",
       " (2040, 1093),\n",
       " (2039, 1092),\n",
       " (2038, 1091),\n",
       " (2037, 1090),\n",
       " (2036, 1089),\n",
       " (2035, 1088),\n",
       " (2034, 1087),\n",
       " (2033, 1086),\n",
       " (2032, 1085),\n",
       " (2031, 1084),\n",
       " (2030, 1083),\n",
       " (2029, 1082),\n",
       " (2028, 1081),\n",
       " (2027, 1080),\n",
       " (2026, 1079),\n",
       " (2025, 1078),\n",
       " (2024, 1077),\n",
       " (2023, 1076),\n",
       " (2022, 1075),\n",
       " (2021, 1074),\n",
       " (2020, 1073),\n",
       " (2019, 1072),\n",
       " (2018, 1071),\n",
       " (2017, 1070),\n",
       " (2016, 1069),\n",
       " (2015, 1068),\n",
       " (2014, 1067),\n",
       " (2013, 1066),\n",
       " (2012, 1065),\n",
       " (2011, 1064),\n",
       " (2010, 1063),\n",
       " (2009, 1062),\n",
       " (2008, 1061),\n",
       " (2007, 1060),\n",
       " (2006, 1059),\n",
       " (2005, 1058),\n",
       " (2004, 1057),\n",
       " (2003, 1056),\n",
       " (2002, 1055),\n",
       " (2001, 1054),\n",
       " (2000, 1053),\n",
       " (1999, 1052),\n",
       " (1998, 1051),\n",
       " (1997, 1050),\n",
       " (1996, 1049),\n",
       " (1995, 1048),\n",
       " (1994, 1047),\n",
       " (1993, 1046),\n",
       " (1992, 1045),\n",
       " (1991, 1044),\n",
       " (1990, 1043),\n",
       " (1989, 1042),\n",
       " (1988, 1041),\n",
       " (1987, 1040),\n",
       " (1986, 1039)]"
      ]
     },
     "execution_count": 25,
     "metadata": {},
     "output_type": "execute_result"
    }
   ],
   "source": [
    "l3"
   ]
  },
  {
   "cell_type": "code",
   "execution_count": null,
   "id": "e97111bc",
   "metadata": {},
   "outputs": [],
   "source": []
  }
 ],
 "metadata": {
  "kernelspec": {
   "display_name": "Python 3 (ipykernel)",
   "language": "python",
   "name": "python3"
  },
  "language_info": {
   "codemirror_mode": {
    "name": "ipython",
    "version": 3
   },
   "file_extension": ".py",
   "mimetype": "text/x-python",
   "name": "python",
   "nbconvert_exporter": "python",
   "pygments_lexer": "ipython3",
   "version": "3.11.5"
  }
 },
 "nbformat": 4,
 "nbformat_minor": 5
}
