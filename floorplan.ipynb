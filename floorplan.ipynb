{
 "cells": [
  {
   "cell_type": "code",
   "execution_count": 1,
   "id": "b83267bf",
   "metadata": {},
   "outputs": [],
   "source": [
    "import cv2 as cv\n",
    "import numpy as np"
   ]
  },
  {
   "cell_type": "code",
   "execution_count": 2,
   "id": "6b1b514c",
   "metadata": {},
   "outputs": [],
   "source": [
    "floorplan = cv.imread(\"floorplan.png\")\n",
    "\n",
    "blank = np.zeros(floorplan.shape, dtype='uint8')"
   ]
  },
  {
   "cell_type": "code",
   "execution_count": 3,
   "id": "b26344df",
   "metadata": {},
   "outputs": [],
   "source": [
    "cv.imshow(\"Floorplan\", floorplan)"
   ]
  },
  {
   "cell_type": "code",
   "execution_count": 4,
   "id": "4a800ee5",
   "metadata": {},
   "outputs": [],
   "source": [
    "gray_fp = cv.cvtColor(floorplan, cv.COLOR_BGR2GRAY)\n",
    "\n",
    "# blur_fp = cv.GaussianBlur(gray_fp, (101,101), cv.BORDER_DEFAULT)\n",
    "# edges_fp = cv.Canny(gray_fp, 125, 175)\n",
    "# cv.imshow(\"Edges of Floor Plan\", edges_fp)"
   ]
  },
  {
   "cell_type": "code",
   "execution_count": 5,
   "id": "74e902fc",
   "metadata": {},
   "outputs": [],
   "source": [
    "ret, thresh = cv.threshold(gray_fp, 125, 255, cv.THRESH_BINARY)\n",
    "\n",
    "# adaptive_thresh = cv.adaptiveThreshold(gray_fp, 255, cv.ADAPTIVE_THRESH_MEAN_C, cv.THRESH_BINARY, 101, 3)\n"
   ]
  },
  {
   "cell_type": "code",
   "execution_count": 6,
   "id": "59b3e4e2",
   "metadata": {},
   "outputs": [
    {
     "data": {
      "text/plain": [
       "906"
      ]
     },
     "execution_count": 6,
     "metadata": {},
     "output_type": "execute_result"
    }
   ],
   "source": [
    "# contours, hierarchies = cv.findContours(edges_fp, cv.RETR_LIST, cv.CHAIN_APPROX_SIMPLE)\n",
    "# len(contours)\n",
    "contours, hierarchies = cv.findContours(thresh, cv.RETR_LIST, cv.CHAIN_APPROX_SIMPLE)\n",
    "len(contours)"
   ]
  },
  {
   "cell_type": "code",
   "execution_count": 7,
   "id": "cf72b325",
   "metadata": {},
   "outputs": [],
   "source": [
    "for i in range(len(contours) - 3, len(contours), 1):\n",
    "    cv.drawContours(blank, contours, i, (255,255,255), 1)"
   ]
  },
  {
   "cell_type": "code",
   "execution_count": 8,
   "id": "011d29b9",
   "metadata": {},
   "outputs": [],
   "source": [
    "# for contour in contours[0:906]:\n",
    "#     # Calculate the centroid of the contour\n",
    "#     M = cv.moments(contour)\n",
    "#     if M[\"m00\"] != 0:\n",
    "#         cX = int(M[\"m10\"] / M[\"m00\"])\n",
    "#         cY = int(M[\"m01\"] / M[\"m00\"])\n",
    "\n",
    "#         # Draw a circle at the centroid\n",
    "#         cv.circle(blank, (cX, cY), 5, (255, 255, 255), -1)\n",
    "        \n",
    "cv.imshow(\"Plain Floor Plan\", blank)"
   ]
  },
  {
   "cell_type": "code",
   "execution_count": null,
   "id": "b3d1ef41",
   "metadata": {},
   "outputs": [],
   "source": [
    "cv.waitKey(0)"
   ]
  },
  {
   "cell_type": "code",
   "execution_count": null,
   "id": "d1665136",
   "metadata": {},
   "outputs": [],
   "source": [
    "cv.destroyAllWindows()"
   ]
  }
 ],
 "metadata": {
  "kernelspec": {
   "display_name": "Python 3 (ipykernel)",
   "language": "python",
   "name": "python3"
  },
  "language_info": {
   "codemirror_mode": {
    "name": "ipython",
    "version": 3
   },
   "file_extension": ".py",
   "mimetype": "text/x-python",
   "name": "python",
   "nbconvert_exporter": "python",
   "pygments_lexer": "ipython3",
   "version": "3.11.5"
  }
 },
 "nbformat": 4,
 "nbformat_minor": 5
}
